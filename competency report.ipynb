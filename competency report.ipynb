{
 "cells": [
  {
   "cell_type": "code",
   "execution_count": 1,
   "id": "08fe4e09",
   "metadata": {},
   "outputs": [],
   "source": [
    "class Node:\n",
    "    def __init__(self, data):\n",
    "        self.data = data\n",
    "        self.next = None \n",
    "        \n",
    "class Dnode:\n",
    "    def __init__(self, data):\n",
    "        self.data = data\n",
    "        self.next = None\n",
    "        self.prev = None\n",
    "        "
   ]
  },
  {
   "cell_type": "code",
   "execution_count": 3,
   "id": "3ad94f7a",
   "metadata": {},
   "outputs": [],
   "source": [
    "mylist = []"
   ]
  },
  {
   "cell_type": "code",
   "execution_count": 35,
   "id": "5c8dce9c",
   "metadata": {},
   "outputs": [
    {
     "ename": "SyntaxError",
     "evalue": "invalid syntax (1453694862.py, line 41)",
     "output_type": "error",
     "traceback": [
      "\u001b[0;36m  Input \u001b[0;32mIn [35]\u001b[0;36m\u001b[0m\n\u001b[0;31m    else: current.data == key:\u001b[0m\n\u001b[0m                              ^\u001b[0m\n\u001b[0;31mSyntaxError\u001b[0m\u001b[0;31m:\u001b[0m invalid syntax\n"
     ]
    }
   ],
   "source": [
    "class DoublyLinkedList():\n",
    "    def __init__(self):\n",
    "         self.head = None \n",
    "        \n",
    "                \n",
    "    def append(self, data):\n",
    "        if self.head == None:\n",
    "            new_node = Node(data)\n",
    "            new_node.previous = None\n",
    "            self.head = new_node\n",
    "        else: \n",
    "            new_node = Node(data)\n",
    "            current = self.head\n",
    "            while current.next:\n",
    "                current = current.next \n",
    "            current.next = new_node\n",
    "            new_node.previous = current\n",
    "            new_node.next = None\n",
    "\n",
    "    def print_list(self):\n",
    "        current = self.head\n",
    "        while current:\n",
    "            print(current.data)\n",
    "            current = current.next \n",
    "\n",
    "    def delete(self, key):\n",
    "        current = self.head\n",
    "        while current: \n",
    "            if current.data == key and current == self.head:\n",
    "                if not current.next:\n",
    "                    current = None\n",
    "                    self.head = None \n",
    "                    return \n",
    "            else: \n",
    "                next_node = current.next\n",
    "                current.next = None\n",
    "                current.previous = None\n",
    "                current = None \n",
    "                self.head = next_node \n",
    "                return \n",
    "        else: current.data == key:\n",
    "            if current.next:\n",
    "                next_node = current.next\n",
    "                previous = current.previous \n",
    "                previous.next = next_node\n",
    "                next.previous = previous\n",
    "                current.next = None\n",
    "                current.previous = None\n",
    "                current = None\n",
    "                return \n",
    "                \n",
    "                \n",
    "                \n",
    "                \n",
    "                \n",
    "                \n",
    "        "
   ]
  },
  {
   "cell_type": "code",
   "execution_count": 31,
   "id": "3560eee0",
   "metadata": {},
   "outputs": [
    {
     "name": "stdout",
     "output_type": "stream",
     "text": [
      "2\n",
      "3\n",
      "4\n"
     ]
    }
   ],
   "source": [
    "dllist = DoublyLinkedList()\n",
    "dllist.append(1)\n",
    "dllist.append(2)\n",
    "dllist.append(3)\n",
    "dllist.append(4)\n",
    "\n",
    "dllist.delete(\"4\")\n",
    "\n",
    "\n",
    "dllist.print_list()"
   ]
  },
  {
   "cell_type": "code",
   "execution_count": null,
   "id": "1dce2d92",
   "metadata": {},
   "outputs": [],
   "source": []
  }
 ],
 "metadata": {
  "kernelspec": {
   "display_name": "Python 3 (ipykernel)",
   "language": "python",
   "name": "python3"
  },
  "language_info": {
   "codemirror_mode": {
    "name": "ipython",
    "version": 3
   },
   "file_extension": ".py",
   "mimetype": "text/x-python",
   "name": "python",
   "nbconvert_exporter": "python",
   "pygments_lexer": "ipython3",
   "version": "3.8.10"
  }
 },
 "nbformat": 4,
 "nbformat_minor": 5
}
