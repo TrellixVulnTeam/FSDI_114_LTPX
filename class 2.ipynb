{
 "cells": [
  {
   "cell_type": "code",
   "execution_count": 1,
   "id": "d50e6908",
   "metadata": {},
   "outputs": [],
   "source": [
    "class Queue: \n",
    "    def __init__(self):\n",
    "        self.items = []\n",
    "    def is_empty(self):\n",
    "        return self.items == []\n",
    "    def enqueue(self, item):\n",
    "        self.items.inseer(0, item)\n",
    "    def dequeue(self):\n",
    "        return self.items.pop()\n",
    "    def size(self):\n",
    "        return len(self.items)"
   ]
  },
  {
   "cell_type": "code",
   "execution_count": 2,
   "id": "9b75908b",
   "metadata": {},
   "outputs": [],
   "source": [
    "# are the parentheses balanced (true or false)\n",
    "# no other characters or spaces\n",
    "# opened and closed in reverse order\n",
    "\n",
    "def Is_balanced(s):\n",
    "    if len(s)%2 != 0: #Check if input is even (if its odd it cannot be balanced)\n",
    "        return False\n",
    "    opening = set(\"{([\") # A string op all possible opening characters\n",
    "    matches = set([ # list of possible matches for opening and closing characters\n",
    "         (\"(\",\")\"), \n",
    "         (\"[\",\"]\"), \n",
    "         (\"{\", \"}\")\n",
    "    ])\n",
    "    stack = Sack() # The stack that will hold our opening characters\n",
    "    for paren in s: # for each element in the input string\n",
    "        if paren in opening: # check to see if the current character is an opening character\n",
    "            stack.append(paren) # add that to the stack if it is an open\n",
    "        else: # if its not an opening char\n",
    "            if stack.is_empty(): #if we dont have any more opening characters to close \n",
    "                return False\n",
    "            last_open = stack.pop() # get the last opening character (remove it from stack)\n",
    "            if (last_open, paren) not in matches: #if the current character and the last character arent of the same type\n",
    "                return False\n",
    "    return stack.is_empty()  #this will return true if the stack is empty meaning we have closed all opening chars\n",
    "                \n",
    "    \n",
    "    \n",
    "    \n",
    "    \n"
   ]
  },
  {
   "cell_type": "code",
   "execution_count": null,
   "id": "bc91c5eb",
   "metadata": {},
   "outputs": [],
   "source": []
  }
 ],
 "metadata": {
  "kernelspec": {
   "display_name": "Python 3 (ipykernel)",
   "language": "python",
   "name": "python3"
  },
  "language_info": {
   "codemirror_mode": {
    "name": "ipython",
    "version": 3
   },
   "file_extension": ".py",
   "mimetype": "text/x-python",
   "name": "python",
   "nbconvert_exporter": "python",
   "pygments_lexer": "ipython3",
   "version": "3.8.10"
  }
 },
 "nbformat": 4,
 "nbformat_minor": 5
}
