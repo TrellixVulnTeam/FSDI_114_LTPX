{
 "cells": [
  {
   "cell_type": "code",
   "execution_count": 2,
   "id": "67c45a0f",
   "metadata": {},
   "outputs": [
    {
     "name": "stdout",
     "output_type": "stream",
     "text": [
      "h\n",
      "e\n",
      "l\n",
      "l\n",
      "o\n",
      ",\n",
      " \n",
      "w\n",
      "o\n",
      "r\n",
      "l\n",
      "d\n",
      " \n"
     ]
    }
   ],
   "source": [
    "for letter in \"hello, world \":\n",
    "    print(letter)"
   ]
  },
  {
   "cell_type": "markdown",
   "id": "bbaa7d8b",
   "metadata": {},
   "source": [
    "#Hello, world!\n",
    "* Bullet\n",
    "> Quote\n",
    "`Plain old text.`\n",
    "```triple ticks```\n",
    ".[test].(example.com)"
   ]
  },
  {
   "cell_type": "markdown",
   "id": "3232c35b",
   "metadata": {},
   "source": [
    "Given two strings (string_a string_b) lets check wheather or not they\n",
    "### anagrams of each other given the following criteria:\n",
    "two strings are only anagrams of each other if all conditions below are met:\n",
    "* they must be exactly the same length.\n",
    "* they must use exactly the same characters\n",
    "* Example: cars scar, earth heart,\n",
    "\n",
    "> * ignore spaces \n",
    "> * ignore letter casing \n",
    "> * such that the case "
   ]
  },
  {
   "cell_type": "code",
   "execution_count": 15,
   "id": "226289a5",
   "metadata": {},
   "outputs": [],
   "source": [
    "# anagram(string_a, string_b)\n",
    "# a1=string_a.length();\n",
    "# b1=string_b.length();\n",
    "# if (a1 != b1)\n",
    "# return false; \n",
    "\n",
    "# for (i=0; i <a1; i++)\n",
    "# if (a1[i] != b1[i])\n",
    "# return false; \n",
    "\n",
    "#return true; "
   ]
  },
  {
   "cell_type": "code",
   "execution_count": 16,
   "id": "f1acdca8",
   "metadata": {},
   "outputs": [
    {
     "ename": "SyntaxError",
     "evalue": "invalid syntax (121927009.py, line 7)",
     "output_type": "error",
     "traceback": [
      "\u001b[0;36m  Input \u001b[0;32mIn [16]\u001b[0;36m\u001b[0m\n\u001b[0;31m    for i in range(len(string_a):      # looping for every value in the range 0 to length of\u001b[0m\n\u001b[0m                                ^\u001b[0m\n\u001b[0;31mSyntaxError\u001b[0m\u001b[0;31m:\u001b[0m invalid syntax\n"
     ]
    }
   ],
   "source": [
    "#solution:\n",
    "def is_anagram(string_a, string_b):    # Function defintion \n",
    "    if len(string_a) != len(string_b):  # check if String_a does not not equal string_b's \n",
    "        return False;                  # if previous condition is true, return False\n",
    "    da = dict()                        # create 2 empty dictionaries \n",
    "    db = dict()                     \n",
    "    for i in range(len(string_a):      # looping for every value in the range 0 to length of \n",
    "        if string_a[i] not in da.keys():   # of string_a \n",
    "            da[i] = 1                # if the character at position i in string_a isnt in da\n",
    "        else: \n",
    "            da[i] += 1               #.. create a new entry with a value of 1. \n",
    "        if string_b[i] not in db.keys(): \n",
    "            db[i] =1 \n",
    "        else:                         # otherwise add 1 to the value of the existing entry.\n",
    "            db[i] += 1\n",
    "    return da == bd  \n",
    "                    # finally: compare da to db return True if they are the same...\n",
    "                   # or False otherwise "
   ]
  },
  {
   "cell_type": "code",
   "execution_count": 12,
   "id": "0960fa0e",
   "metadata": {},
   "outputs": [
    {
     "ename": "SyntaxError",
     "evalue": "invalid syntax (4039160928.py, line 4)",
     "output_type": "error",
     "traceback": [
      "\u001b[0;36m  Input \u001b[0;32mIn [12]\u001b[0;36m\u001b[0m\n\u001b[0;31m    def Is_anagram(\"I am Lord Voldemort\", \"Tom Marvolo Riddle\")\u001b[0m\n\u001b[0m                   ^\u001b[0m\n\u001b[0;31mSyntaxError\u001b[0m\u001b[0;31m:\u001b[0m invalid syntax\n"
     ]
    }
   ],
   "source": [
    "# consider the popular Harry potter series:\n",
    "# \" I am Lord Voldemort\" is an anagram of \"Tom Marvolo Riddle\"\n",
    "string_a=\"I am Lord Voldemort\"\n",
    "string_b=\"Tom Marvolo Riddle\"\n",
    "def Is_anagram(string_a, string_b)\n",
    "string_a.replace(\" \", \"\")\n",
    "string_b.replace(\" \",\"\")\n",
    "for i in range(len(string_a):\n",
    "               .lower(len(string_a))\n",
    "for i in range(len(string_b)):\n",
    "               .lower(len(string_b))\n"
   ]
  },
  {
   "cell_type": "code",
   "execution_count": 8,
   "id": "a66ffb66",
   "metadata": {},
   "outputs": [],
   "source": [
    "class Stack:\n",
    "    def __init__(self):\n",
    "        self.items = []\n",
    "    def push(self, item):\n",
    "        self.items.append(item)\n",
    "    def pop(self):\n",
    "        return self.items.pop()\n",
    "    def is_empty(self):\n",
    "        return self.items == []\n",
    "    def peek(self):\n",
    "        self.items[len(self.items)-1]\n",
    "    def size(self):\n",
    "        return len(self.items)\n",
    "    def __len__(self):\n",
    "        return self.size()\n",
    "    def is_empty(self):\n",
    "        return self.items == []"
   ]
  },
  {
   "cell_type": "code",
   "execution_count": 9,
   "id": "91f109f4",
   "metadata": {},
   "outputs": [],
   "source": [
    "# problem 2: reverse a string using our stack \n",
    "# given a string a parameter, use a stack to reverse it \n",
    "# Example: \"rafael\" - > \"leafar\"\n",
    "\n",
    "def reverse(mystring):\n",
    "    stack = Stack()\n",
    "    output = \"\"\n",
    "    for letter in mystring:\n",
    "        print(\"Pushing letter: %s\" % letter)\n",
    "        stack.push(letter)\n",
    "        print(\"current stack: %s\" % stack.items)\n",
    "    while not stack.is_empty():\n",
    "        current_letter = stack.pop()\n",
    "        print(\"popping letter: %s\" % current_letter)\n",
    "        output += current_letter\n",
    "    return output \n",
    "\n",
    "            \n",
    "            \n",
    "        \n",
    "        \n",
    "        \n",
    "        "
   ]
  },
  {
   "cell_type": "code",
   "execution_count": 10,
   "id": "7ea8c69f",
   "metadata": {},
   "outputs": [
    {
     "name": "stdout",
     "output_type": "stream",
     "text": [
      "Pushing letter: R\n",
      "current stack: ['R']\n",
      "Pushing letter: a\n",
      "current stack: ['R', 'a']\n",
      "Pushing letter: f\n",
      "current stack: ['R', 'a', 'f']\n",
      "Pushing letter: a\n",
      "current stack: ['R', 'a', 'f', 'a']\n",
      "Pushing letter: e\n",
      "current stack: ['R', 'a', 'f', 'a', 'e']\n",
      "Pushing letter: l\n",
      "current stack: ['R', 'a', 'f', 'a', 'e', 'l']\n",
      "popping letter: l\n",
      "popping letter: e\n",
      "popping letter: a\n",
      "popping letter: f\n",
      "popping letter: a\n",
      "popping letter: R\n"
     ]
    },
    {
     "data": {
      "text/plain": [
       "'leafaR'"
      ]
     },
     "execution_count": 10,
     "metadata": {},
     "output_type": "execute_result"
    }
   ],
   "source": [
    "reverse(\"Rafael\")"
   ]
  },
  {
   "cell_type": "code",
   "execution_count": null,
   "id": "7247aed9",
   "metadata": {},
   "outputs": [],
   "source": [
    "class MyBlueprint:\n",
    "    windows = 4\n",
    "    doors = 3\n",
    "    rooms = 3\n",
    "    def __init__"
   ]
  }
 ],
 "metadata": {
  "kernelspec": {
   "display_name": "Python 3 (ipykernel)",
   "language": "python",
   "name": "python3"
  },
  "language_info": {
   "codemirror_mode": {
    "name": "ipython",
    "version": 3
   },
   "file_extension": ".py",
   "mimetype": "text/x-python",
   "name": "python",
   "nbconvert_exporter": "python",
   "pygments_lexer": "ipython3",
   "version": "3.8.10"
  }
 },
 "nbformat": 4,
 "nbformat_minor": 5
}
