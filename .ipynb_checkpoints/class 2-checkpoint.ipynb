{
 "cells": [
  {
   "cell_type": "code",
   "execution_count": 1,
   "id": "d50e6908",
   "metadata": {},
   "outputs": [],
   "source": [
    "class Queue: \n",
    "    def __init__(self):\n",
    "        self.items = []\n",
    "    def is_empty(self):\n",
    "        return self.items == []\n",
    "    def enqueue(self, item):\n",
    "        self.items.inseer(0, item)\n",
    "    def dequeue(self):\n",
    "        return self.items.pop()\n",
    "    def size(self):\n",
    "        return len(self.items)"
   ]
  },
  {
   "cell_type": "code",
   "execution_count": null,
   "id": "816dd1ff",
   "metadata": {},
   "outputs": [],
   "source": [
    "# are the parentheses balanced (true or false)\n",
    "# no other characters or spaces\n",
    "# opened and closed in reverse order\n",
    "\n",
    "def Balanced_str(s):\n",
    "    sack = sack()\n",
    "    if s.len() != s.len()\n",
    "    print(\"false\")\n",
    "for index in s:\n",
    "    use to pop each index from the string\n",
    "    \n",
    "    \n",
    "    \n",
    "    \n"
   ]
  }
 ],
 "metadata": {
  "kernelspec": {
   "display_name": "Python 3 (ipykernel)",
   "language": "python",
   "name": "python3"
  },
  "language_info": {
   "codemirror_mode": {
    "name": "ipython",
    "version": 3
   },
   "file_extension": ".py",
   "mimetype": "text/x-python",
   "name": "python",
   "nbconvert_exporter": "python",
   "pygments_lexer": "ipython3",
   "version": "3.8.10"
  }
 },
 "nbformat": 4,
 "nbformat_minor": 5
}
