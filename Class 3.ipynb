{
 "cells": [
  {
   "cell_type": "code",
   "execution_count": 46,
   "id": "48001d63",
   "metadata": {},
   "outputs": [],
   "source": [
    "class Queue2Stacks:\n",
    "    \n",
    "    def __init__(self):\n",
    "        self.stack1 = []\n",
    "        self.stack2 = []\n",
    "        \n",
    "    def enqueue(self, element):\n",
    "        self.stack1.append(element)\n",
    "        return \"n(queue) %s \" % self.stack1\n",
    "        \n",
    "      \n",
    "    \n",
    "    def dequeue(self):\n",
    "        element = self.stack1.pop #remove the element from stack1 and save its value\n",
    "        self.stack2.append(element) # adding the saved value to stack2\n",
    "        returned = [] # create new array to hold the final results\n",
    "        if self.stack1 == []: # check to make sure stack1 is finished emptying\n",
    "            while self.stack2 != []: # until stack 2 is empty keep doing this:\n",
    "                returned.append(self.stack2.pop()) # removing element from stack2 while adding it to the final result\n",
    "                print(returned)\n",
    "            \n",
    "            return \"d(queue) returned %s\" % returned\n",
    "        return \"d(queue) %s\" % self.stack2 \n",
    "        \n",
    "    \n",
    "            \n",
    "            \n",
    "            \n",
    "        \n",
    "        \n",
    "            \n",
    "        \n",
    "\n",
    "\n",
    "    \n"
   ]
  },
  {
   "cell_type": "code",
   "execution_count": 50,
   "id": "8ac9c99c",
   "metadata": {},
   "outputs": [
    {
     "name": "stdout",
     "output_type": "stream",
     "text": [
      "n(queue) [0] \n",
      "n(queue) [0, 1] \n",
      "n(queue) [0, 1, 2] \n",
      "n(queue) [0, 1, 2, 3] \n",
      "n(queue) [0, 1, 2, 3, 4] \n",
      "d(queue) [4]\n",
      "d(queue) [4, 3]\n",
      "d(queue) [4, 3, 2]\n",
      "d(queue) [4, 3, 2, 1]\n",
      "[0]\n",
      "[0, 1]\n",
      "[0, 1, 2]\n",
      "[0, 1, 2, 3]\n",
      "[0, 1, 2, 3, 4]\n",
      "d(queue) returned [0, 1, 2, 3, 4]\n"
     ]
    }
   ],
   "source": [
    "q = Queue2Stacks()\n",
    "for i in range(5):\n",
    "    print(q.enqueue(i))\n",
    "for i in range(5):\n",
    "    print(q.dequeue())"
   ]
  },
  {
   "cell_type": "code",
   "execution_count": 16,
   "id": "83771308",
   "metadata": {},
   "outputs": [],
   "source": [
    "def factorial(n):\n",
    "    if n== 0:\n",
    "        return 1 \n",
    "    return n*factorial(n-1)\n",
    "# solve the factorial probelm via an interative solution (loop):\n",
    "# 5 -> 120 (5x4x3x2x1 = 120)"
   ]
  },
  {
   "cell_type": "code",
   "execution_count": 10,
   "id": "1aa0e99c",
   "metadata": {},
   "outputs": [
    {
     "data": {
      "text/plain": [
       "3628800"
      ]
     },
     "execution_count": 10,
     "metadata": {},
     "output_type": "execute_result"
    }
   ],
   "source": [
    "factorial(10)"
   ]
  },
  {
   "cell_type": "code",
   "execution_count": 19,
   "id": "5ac72c89",
   "metadata": {},
   "outputs": [],
   "source": [
    "def Is_interative(n):             #4\n",
    "    out = 1                       # out = 1\n",
    "    for number in range(1, n+1):     # first loop: number = 0; number =1\n",
    "        #if number != 0:          # 1L: skipped;\n",
    "            out *= number\n",
    "            #out = out * number        # 2L: out 1 * 1; out = 1*2; 2*3;  \n",
    "    return out \n",
    " \n",
    "    \n",
    "    \n",
    "\n",
    "\n",
    "\n"
   ]
  },
  {
   "cell_type": "code",
   "execution_count": 18,
   "id": "6feba600",
   "metadata": {},
   "outputs": [
    {
     "data": {
      "text/plain": [
       "3628800"
      ]
     },
     "execution_count": 18,
     "metadata": {},
     "output_type": "execute_result"
    }
   ],
   "source": [
    "Is_interative(10)"
   ]
  },
  {
   "cell_type": "code",
   "execution_count": 24,
   "id": "6411e28a",
   "metadata": {},
   "outputs": [],
   "source": [
    "from functools import lru_cache\n",
    "\n",
    "@lru_cache\n",
    "def fib(n):\n",
    "    if n < 2:\n",
    "        return n \n",
    "    return fib(n-1) + fib(n-2)"
   ]
  },
  {
   "cell_type": "code",
   "execution_count": 26,
   "id": "c087cc9b",
   "metadata": {},
   "outputs": [
    {
     "data": {
      "text/plain": [
       "102334155"
      ]
     },
     "execution_count": 26,
     "metadata": {},
     "output_type": "execute_result"
    }
   ],
   "source": [
    "fib(40)"
   ]
  },
  {
   "cell_type": "code",
   "execution_count": 1,
   "id": "712213db",
   "metadata": {},
   "outputs": [
    {
     "name": "stdout",
     "output_type": "stream",
     "text": [
      "1\n",
      "2\n",
      "3\n",
      "4\n",
      "5\n"
     ]
    }
   ],
   "source": [
    "class Node:\n",
    "    def __init__(self, data):\n",
    "        self.data = data\n",
    "        self.next = None\n",
    "\n",
    "# introduce the concept of singly linked lists. \n",
    "# Goal: makes our singly linked list do pretty much eveything a \n",
    "# regular python list can do. \n",
    "\n",
    "head = Node(1)\n",
    "current = head\n",
    "for i in range(2, 6):\n",
    "    current.next = Node(i)\n",
    "    current = current.next\n",
    "\n",
    "current = head \n",
    "while current != None:\n",
    "    print(current.data)\n",
    "    current = current.next \n"
   ]
  },
  {
   "cell_type": "code",
   "execution_count": null,
   "id": "075abcff",
   "metadata": {},
   "outputs": [],
   "source": []
  }
 ],
 "metadata": {
  "kernelspec": {
   "display_name": "Python 3 (ipykernel)",
   "language": "python",
   "name": "python3"
  },
  "language_info": {
   "codemirror_mode": {
    "name": "ipython",
    "version": 3
   },
   "file_extension": ".py",
   "mimetype": "text/x-python",
   "name": "python",
   "nbconvert_exporter": "python",
   "pygments_lexer": "ipython3",
   "version": "3.8.10"
  }
 },
 "nbformat": 4,
 "nbformat_minor": 5
}
